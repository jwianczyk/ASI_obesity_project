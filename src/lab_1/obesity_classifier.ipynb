{
 "cells": [
  {
   "cell_type": "code",
   "execution_count": 156,
   "metadata": {},
   "outputs": [],
   "source": [
    "import pandas as pd\n",
    "import numpy as np\n",
    "from scipy import stats\n",
    "from sklearn.model_selection import train_test_split, cross_val_score, GridSearchCV\n",
    "from sklearn.feature_selection import SelectFromModel\n",
    "from sklearn.ensemble import RandomForestClassifier\n",
    "from sklearn.metrics import confusion_matrix, f1_score, recall_score, accuracy_score\n",
    "from sklearn.pipeline import Pipeline\n"
   ]
  },
  {
   "cell_type": "code",
   "execution_count": 157,
   "metadata": {},
   "outputs": [
    {
     "data": {
      "text/html": [
       "<div>\n",
       "<style scoped>\n",
       "    .dataframe tbody tr th:only-of-type {\n",
       "        vertical-align: middle;\n",
       "    }\n",
       "\n",
       "    .dataframe tbody tr th {\n",
       "        vertical-align: top;\n",
       "    }\n",
       "\n",
       "    .dataframe thead th {\n",
       "        text-align: right;\n",
       "    }\n",
       "</style>\n",
       "<table border=\"1\" class=\"dataframe\">\n",
       "  <thead>\n",
       "    <tr style=\"text-align: right;\">\n",
       "      <th></th>\n",
       "      <th>id</th>\n",
       "      <th>Gender</th>\n",
       "      <th>Age</th>\n",
       "      <th>Height</th>\n",
       "      <th>Weight</th>\n",
       "      <th>family_history_with_overweight</th>\n",
       "      <th>FAVC</th>\n",
       "      <th>FCVC</th>\n",
       "      <th>NCP</th>\n",
       "      <th>CAEC</th>\n",
       "      <th>SMOKE</th>\n",
       "      <th>CH2O</th>\n",
       "      <th>SCC</th>\n",
       "      <th>FAF</th>\n",
       "      <th>TUE</th>\n",
       "      <th>CALC</th>\n",
       "      <th>MTRANS</th>\n",
       "      <th>0be1dad</th>\n",
       "    </tr>\n",
       "  </thead>\n",
       "  <tbody>\n",
       "    <tr>\n",
       "      <th>0</th>\n",
       "      <td>0</td>\n",
       "      <td>Male</td>\n",
       "      <td>24.443011</td>\n",
       "      <td>1.699998</td>\n",
       "      <td>81.669950</td>\n",
       "      <td>1</td>\n",
       "      <td>1</td>\n",
       "      <td>2.000000</td>\n",
       "      <td>2.983297</td>\n",
       "      <td>Sometimes</td>\n",
       "      <td>0</td>\n",
       "      <td>2.763573</td>\n",
       "      <td>0</td>\n",
       "      <td>0.000000</td>\n",
       "      <td>0.976473</td>\n",
       "      <td>Sometimes</td>\n",
       "      <td>Public_Transportation</td>\n",
       "      <td>Overweight_Level_II</td>\n",
       "    </tr>\n",
       "    <tr>\n",
       "      <th>1</th>\n",
       "      <td>1</td>\n",
       "      <td>Female</td>\n",
       "      <td>18.000000</td>\n",
       "      <td>1.560000</td>\n",
       "      <td>57.000000</td>\n",
       "      <td>1</td>\n",
       "      <td>1</td>\n",
       "      <td>2.000000</td>\n",
       "      <td>3.000000</td>\n",
       "      <td>Frequently</td>\n",
       "      <td>0</td>\n",
       "      <td>2.000000</td>\n",
       "      <td>0</td>\n",
       "      <td>1.000000</td>\n",
       "      <td>1.000000</td>\n",
       "      <td>0</td>\n",
       "      <td>Automobile</td>\n",
       "      <td>0rmal_Weight</td>\n",
       "    </tr>\n",
       "    <tr>\n",
       "      <th>2</th>\n",
       "      <td>2</td>\n",
       "      <td>Female</td>\n",
       "      <td>18.000000</td>\n",
       "      <td>1.711460</td>\n",
       "      <td>50.165754</td>\n",
       "      <td>1</td>\n",
       "      <td>1</td>\n",
       "      <td>1.880534</td>\n",
       "      <td>1.411685</td>\n",
       "      <td>Sometimes</td>\n",
       "      <td>0</td>\n",
       "      <td>1.910378</td>\n",
       "      <td>0</td>\n",
       "      <td>0.866045</td>\n",
       "      <td>1.673584</td>\n",
       "      <td>0</td>\n",
       "      <td>Public_Transportation</td>\n",
       "      <td>Insufficient_Weight</td>\n",
       "    </tr>\n",
       "    <tr>\n",
       "      <th>3</th>\n",
       "      <td>3</td>\n",
       "      <td>Female</td>\n",
       "      <td>20.952737</td>\n",
       "      <td>1.710730</td>\n",
       "      <td>131.274851</td>\n",
       "      <td>1</td>\n",
       "      <td>1</td>\n",
       "      <td>3.000000</td>\n",
       "      <td>3.000000</td>\n",
       "      <td>Sometimes</td>\n",
       "      <td>0</td>\n",
       "      <td>1.674061</td>\n",
       "      <td>0</td>\n",
       "      <td>1.467863</td>\n",
       "      <td>0.780199</td>\n",
       "      <td>Sometimes</td>\n",
       "      <td>Public_Transportation</td>\n",
       "      <td>Obesity_Type_III</td>\n",
       "    </tr>\n",
       "    <tr>\n",
       "      <th>4</th>\n",
       "      <td>4</td>\n",
       "      <td>Male</td>\n",
       "      <td>31.641081</td>\n",
       "      <td>1.914186</td>\n",
       "      <td>93.798055</td>\n",
       "      <td>1</td>\n",
       "      <td>1</td>\n",
       "      <td>2.679664</td>\n",
       "      <td>1.971472</td>\n",
       "      <td>Sometimes</td>\n",
       "      <td>0</td>\n",
       "      <td>1.979848</td>\n",
       "      <td>0</td>\n",
       "      <td>1.967973</td>\n",
       "      <td>0.931721</td>\n",
       "      <td>Sometimes</td>\n",
       "      <td>Public_Transportation</td>\n",
       "      <td>Overweight_Level_II</td>\n",
       "    </tr>\n",
       "  </tbody>\n",
       "</table>\n",
       "</div>"
      ],
      "text/plain": [
       "   id  Gender        Age    Height      Weight  \\\n",
       "0   0    Male  24.443011  1.699998   81.669950   \n",
       "1   1  Female  18.000000  1.560000   57.000000   \n",
       "2   2  Female  18.000000  1.711460   50.165754   \n",
       "3   3  Female  20.952737  1.710730  131.274851   \n",
       "4   4    Male  31.641081  1.914186   93.798055   \n",
       "\n",
       "   family_history_with_overweight  FAVC      FCVC       NCP        CAEC  \\\n",
       "0                               1     1  2.000000  2.983297   Sometimes   \n",
       "1                               1     1  2.000000  3.000000  Frequently   \n",
       "2                               1     1  1.880534  1.411685   Sometimes   \n",
       "3                               1     1  3.000000  3.000000   Sometimes   \n",
       "4                               1     1  2.679664  1.971472   Sometimes   \n",
       "\n",
       "   SMOKE      CH2O  SCC       FAF       TUE       CALC                 MTRANS  \\\n",
       "0      0  2.763573    0  0.000000  0.976473  Sometimes  Public_Transportation   \n",
       "1      0  2.000000    0  1.000000  1.000000          0             Automobile   \n",
       "2      0  1.910378    0  0.866045  1.673584          0  Public_Transportation   \n",
       "3      0  1.674061    0  1.467863  0.780199  Sometimes  Public_Transportation   \n",
       "4      0  1.979848    0  1.967973  0.931721  Sometimes  Public_Transportation   \n",
       "\n",
       "               0be1dad  \n",
       "0  Overweight_Level_II  \n",
       "1         0rmal_Weight  \n",
       "2  Insufficient_Weight  \n",
       "3     Obesity_Type_III  \n",
       "4  Overweight_Level_II  "
      ]
     },
     "execution_count": 157,
     "metadata": {},
     "output_type": "execute_result"
    }
   ],
   "source": [
    "obesity = pd.read_csv('obesity_level.csv')\n",
    "obesity.head()"
   ]
  },
  {
   "cell_type": "markdown",
   "metadata": {},
   "source": [
    "- FAVC (Frequent consumption of high-caloric food)\n",
    "- FCVC (Frequency of consumption of vegetables)\n",
    "- NCP (Number of main meals)\n",
    "- CAEC (Consumption of food between meals)\n",
    "- SMOKE\n",
    "- CH2O (Daily water consumption)\n",
    "- SCC (Caloric beverages consumption)\n",
    "- FAF (Physical activity frequency)\n",
    "- TUE (Time spent using technological devices)\n",
    "- CALC (Consumption of alcohol)\n",
    "- MTRANS (Mode of transportation)\n",
    "- 0be1dad (Target variable representing obesity level)"
   ]
  },
  {
   "cell_type": "code",
   "execution_count": 158,
   "metadata": {},
   "outputs": [
    {
     "data": {
      "text/plain": [
       "(20758, 18)"
      ]
     },
     "execution_count": 158,
     "metadata": {},
     "output_type": "execute_result"
    }
   ],
   "source": [
    "obesity.shape"
   ]
  },
  {
   "cell_type": "code",
   "execution_count": 159,
   "metadata": {},
   "outputs": [
    {
     "data": {
      "text/plain": [
       "Index(['id', 'Gender', 'Age', 'Height', 'Weight',\n",
       "       'family_history_with_overweight', 'FAVC', 'FCVC', 'NCP', 'CAEC',\n",
       "       'SMOKE', 'CH2O', 'SCC', 'FAF', 'TUE', 'CALC', 'MTRANS', 'OB_LEVEL'],\n",
       "      dtype='object')"
      ]
     },
     "execution_count": 159,
     "metadata": {},
     "output_type": "execute_result"
    }
   ],
   "source": [
    "obesity.rename(columns={\"0be1dad\": \"OB_LEVEL\"}, inplace=True)\n",
    "obesity.columns"
   ]
  },
  {
   "cell_type": "code",
   "execution_count": 160,
   "metadata": {},
   "outputs": [],
   "source": [
    "categorical_columns = ['Gender', 'MTRANS', 'OB_LEVEL']\n",
    "obesity[categorical_columns] = obesity[categorical_columns].astype('category')"
   ]
  },
  {
   "cell_type": "code",
   "execution_count": 161,
   "metadata": {},
   "outputs": [],
   "source": [
    "caec_mapping = {\"0\": 0, \"Sometimes\": 1, \"Frequently\": 2, \"Always\": 3}\n",
    "calc_mapping = {\"0\": 0, \"Sometimes\": 1, \"Frequently\": 2}\n",
    "ob_level_mapping = {\"Insufficient_Weight\": 0, \"0rmal_Weight\": 1, \"Overweight_Level_I\": 2, \"Overweight_Level_II\": 3, \"Obesity_Type_I\": 4, \"Obesity_Type_II\": 5, \"Obesity_Type_III\": 6}\n",
    "obesity['CAEC'] = obesity['CAEC'].map(caec_mapping)\n",
    "obesity['CALC'] = obesity['CALC'].map(calc_mapping)\n",
    "obesity['OB_LEVEL'] = obesity['OB_LEVEL'].map(ob_level_mapping)\n",
    "obesity['CAEC'] = pd.Categorical(obesity['CAEC'], categories=[0, 1, 2, 3], ordered=True)\n",
    "obesity['CALC'] = pd.Categorical(obesity['CALC'], categories=[0, 1, 2], ordered=True)\n",
    "obesity['OB_LEVEL'] = pd.Categorical(obesity['OB_LEVEL'], categories=[0, 1, 2, 3, 4, 5, 6], ordered=True)"
   ]
  },
  {
   "cell_type": "code",
   "execution_count": 162,
   "metadata": {},
   "outputs": [
    {
     "data": {
      "text/plain": [
       "id                                0\n",
       "Gender                            0\n",
       "Age                               0\n",
       "Height                            0\n",
       "Weight                            0\n",
       "family_history_with_overweight    0\n",
       "FAVC                              0\n",
       "FCVC                              0\n",
       "NCP                               0\n",
       "CAEC                              0\n",
       "SMOKE                             0\n",
       "CH2O                              0\n",
       "SCC                               0\n",
       "FAF                               0\n",
       "TUE                               0\n",
       "CALC                              0\n",
       "MTRANS                            0\n",
       "OB_LEVEL                          0\n",
       "dtype: int64"
      ]
     },
     "execution_count": 162,
     "metadata": {},
     "output_type": "execute_result"
    }
   ],
   "source": [
    "obesity.isnull().sum()"
   ]
  },
  {
   "cell_type": "code",
   "execution_count": 163,
   "metadata": {},
   "outputs": [
    {
     "data": {
      "text/plain": [
       "Age        True\n",
       "Height     True\n",
       "Weight    False\n",
       "FCVC      False\n",
       "CH2O      False\n",
       "NCP       False\n",
       "FAF       False\n",
       "TUE       False\n",
       "dtype: bool"
      ]
     },
     "execution_count": 163,
     "metadata": {},
     "output_type": "execute_result"
    }
   ],
   "source": [
    "numeric_columns = ['Age', 'Height', 'Weight', 'FCVC', 'CH2O', 'NCP', 'FAF', 'TUE']\n",
    "z_scores = stats.zscore(obesity[numeric_columns])\n",
    "threshold = 3\n",
    "outliers = (abs(z_scores) > threshold)\n",
    "outliers.any()"
   ]
  },
  {
   "cell_type": "code",
   "execution_count": 164,
   "metadata": {},
   "outputs": [
    {
     "data": {
      "text/plain": [
       "0.8824504761973844"
      ]
     },
     "execution_count": 164,
     "metadata": {},
     "output_type": "execute_result"
    }
   ],
   "source": [
    "X, y = obesity.drop('OB_LEVEL', axis=1), obesity['OB_LEVEL']\n",
    "X = pd.get_dummies(X)\n",
    "X_train, X_test, y_train, y_test = train_test_split(X, y, test_size=0.2)\n",
    "rfc = RandomForestClassifier(random_state=42, max_depth=30, min_samples_leaf=5, min_samples_split=2, n_estimators=100, max_features='log2')\n",
    "score = cross_val_score(rfc, X_train, y_train, cv=10)\n",
    "np.mean(score)"
   ]
  },
  {
   "cell_type": "code",
   "execution_count": 165,
   "metadata": {},
   "outputs": [],
   "source": [
    "# grid_search.best_estimator_.named_steps[\"classification\"].feature_importances_\n",
    "# grid_search.best_estimator_.feature_names_in_"
   ]
  },
  {
   "cell_type": "code",
   "execution_count": null,
   "metadata": {},
   "outputs": [],
   "source": []
  },
  {
   "cell_type": "code",
   "execution_count": 166,
   "metadata": {},
   "outputs": [
    {
     "data": {
      "text/plain": [
       "array([[476,  33,   2,   1,   0,   1,   0],\n",
       "       [ 31, 567,  33,   6,   2,   0,   0],\n",
       "       [  6,  48, 351,  71,  13,   0,   0],\n",
       "       [  0,  14,  34, 423,  39,   2,   0],\n",
       "       [  1,   0,  12,  30, 484,  28,   2],\n",
       "       [  0,   0,   0,   6,  17, 638,   1],\n",
       "       [  0,   0,   1,   0,   2,   0, 777]])"
      ]
     },
     "execution_count": 166,
     "metadata": {},
     "output_type": "execute_result"
    }
   ],
   "source": [
    "rfc.fit(X_train, y_train)\n",
    "y_pred = rfc.predict(X_test)\n",
    "conf_matrix = confusion_matrix(y_test, y_pred)\n",
    "conf_matrix\n"
   ]
  },
  {
   "cell_type": "code",
   "execution_count": 167,
   "metadata": {},
   "outputs": [
    {
     "name": "stdout",
     "output_type": "stream",
     "text": [
      "Precision: 0.894990366088632\n",
      "Recall: 0.884000471018276\n",
      "F1 score: 0.884321700171592\n"
     ]
    }
   ],
   "source": [
    "print(f\"Precision: {accuracy_score(y_test, y_pred)}\")\n",
    "print(f\"Recall: {recall_score(y_test, y_pred, average='macro')}\")\n",
    "print(f\"F1 score: {f1_score(y_test, y_pred, average='macro')}\")"
   ]
  }
 ],
 "metadata": {
  "kernelspec": {
   "display_name": "asi-env",
   "language": "python",
   "name": "python3"
  },
  "language_info": {
   "codemirror_mode": {
    "name": "ipython",
    "version": 3
   },
   "file_extension": ".py",
   "mimetype": "text/x-python",
   "name": "python",
   "nbconvert_exporter": "python",
   "pygments_lexer": "ipython3",
   "version": "3.12.2"
  }
 },
 "nbformat": 4,
 "nbformat_minor": 2
}
